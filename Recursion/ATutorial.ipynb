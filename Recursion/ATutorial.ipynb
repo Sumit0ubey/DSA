{
 "cells": [
  {
   "cell_type": "markdown",
   "metadata": {},
   "source": [
    "                                                            RECURSION                                                                "
   ]
  },
  {
   "cell_type": "markdown",
   "metadata": {},
   "source": [
    "### What is Recursion?\n",
    "Recursion is a process in which a function calls itself directly or indirectly to solve a problem. It breaks down a complex problem into smaller subproblems of the same type until the problem becomes simple enough to solve directly. Recursion is widely used in programming, mathematics, and problem-solving techniques.\n",
    "\n",
    "In mathematics, recursion defines a sequence or function by expressing its terms or values in terms of other terms or values in the same sequence or function.\n",
    "\n",
    "#### Key Concepts of Recursion\n",
    "- Base Case:\n",
    "    - This is the simplest case of the problem, which can be solved without further recursion. Without a base case, recursion would continue indefinitely, leading to a stack overflow.\n",
    "- Recursive Case:\n",
    "    - This is where the function calls itself to break the problem into smaller parts."
   ]
  },
  {
   "cell_type": "markdown",
   "metadata": {},
   "source": [
    "#### Examples of Recursion: (Mathematically & implementation)"
   ]
  },
  {
   "cell_type": "markdown",
   "metadata": {},
   "source": [
    "##### Mathematical Example: Factorial\n",
    "The factorial of a positive integer 𝑛(denoted as 𝑛!) is the product of all positive integers less than or equal to 𝑛.\n",
    "- Mathematically:\n",
    "<pre>\n",
    "            _    1   if n == 0 or n == 1\n",
    "       𝑛 = |\n",
    "            ¯    n x (n - 1)!   if n > 1\n",
    "</pre>\n",
    "- Example calculation:\n",
    "<pre>\n",
    "        5! = 5 x 4 x 3 x 2 x 1 = 120\n",
    "</pre>\n",
    "- Using recursion:\n",
    "<pre>\n",
    "        5! = 5 x 4!\n",
    "        4! = 4 x 3!\n",
    "        3! = 3 x 2!\n",
    "        2! = 2 x 1!\n",
    "        1! = 1\n",
    "</pre>"
   ]
  },
  {
   "cell_type": "markdown",
   "metadata": {},
   "source": [
    "##### Implementation Example: Factorial"
   ]
  },
  {
   "cell_type": "code",
   "execution_count": 1,
   "metadata": {},
   "outputs": [
    {
     "name": "stdout",
     "output_type": "stream",
     "text": [
      "Factorial of 5 is 120\n"
     ]
    }
   ],
   "source": [
    "def factorial(n):\n",
    "    if n == 0 or n == 1:\n",
    "        return 1\n",
    "    return n * factorial(n - 1)\n",
    "\n",
    "print(f\"Factorial of 5 is {factorial(5)}\")\n"
   ]
  },
  {
   "cell_type": "markdown",
   "metadata": {},
   "source": [
    "#### Visualization of Recursion:\n",
    "To calculate 5!, the function calls happen as follows:\n",
    "- factorial(5) → calls factorial(4)\n",
    "- factorial(4) → calls factorial(3)\n",
    "- factorial(3) → calls factorial(2)\n",
    "- factorial(2) → calls factorial(1)\n",
    "- factorial(1) → returns 1 (base case) <br>\n",
    "\n",
    "The function then \"unwinds\" as it returns values back up:\n",
    "- factorial(2) returns 2×1=2\n",
    "- factorial(3) returns 3×2=6\n",
    "- factorial(4) returns 4×6=24\n",
    "- factorial(5) returns 5×24=120\n"
   ]
  },
  {
   "cell_type": "markdown",
   "metadata": {},
   "source": [
    "### General Formula for Time and Space Complexity (Recursive Problems):\n",
    "If a recursive function makes k recursive calls and performs 𝑂(f(n)) work per call:\n",
    "- Time complexity: 𝑂(k^d.f(n))\n",
    "    - where \n",
    "        - d is the depth of recursion.\n",
    "\n",
    "- Space complexity: 𝑂(d), due to the call stack."
   ]
  },
  {
   "cell_type": "markdown",
   "metadata": {},
   "source": [
    "### Optimization to Improve Complexity\n",
    "- Tail Recursion: Tail-recursive functions can be optimized by compilers into iterative loops, reducing stack usage to 𝑂(1).\n",
    "- Memoization: Store previously computed results to avoid redundant calls, improving time complexity.\n",
    "- Iterative Approach: For problems like factorial or Fibonacci, an iterative approach often uses less space."
   ]
  }
 ],
 "metadata": {
  "kernelspec": {
   "display_name": "base",
   "language": "python",
   "name": "python3"
  },
  "language_info": {
   "codemirror_mode": {
    "name": "ipython",
    "version": 3
   },
   "file_extension": ".py",
   "mimetype": "text/x-python",
   "name": "python",
   "nbconvert_exporter": "python",
   "pygments_lexer": "ipython3",
   "version": "3.11.7"
  }
 },
 "nbformat": 4,
 "nbformat_minor": 2
}
